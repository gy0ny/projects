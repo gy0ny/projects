{
  "nbformat": 4,
  "nbformat_minor": 0,
  "metadata": {
    "colab": {
      "name": "CGAN_keras.ipynb",
      "provenance": [],
      "collapsed_sections": [],
      "machine_shape": "hm"
    },
    "kernelspec": {
      "name": "python3",
      "display_name": "Python 3"
    },
    "language_info": {
      "name": "python"
    },
    "accelerator": "GPU",
    "gpuClass": "standard"
  },
  "cells": [
    {
      "cell_type": "code",
      "metadata": {
        "id": "a_TpaVRaa1YR"
      },
      "source": [
        "import os"
      ],
      "execution_count": 1,
      "outputs": []
    },
    {
      "cell_type": "code",
      "metadata": {
        "id": "il9LRrBpezwj",
        "colab": {
          "base_uri": "https://localhost:8080/"
        },
        "outputId": "6790bb06-b3e9-47ee-8c45-63cb0074494d"
      },
      "source": [
        "from google.colab import drive\n",
        "drive.mount('/content/drive')"
      ],
      "execution_count": 2,
      "outputs": [
        {
          "output_type": "stream",
          "name": "stdout",
          "text": [
            "Mounted at /content/drive\n"
          ]
        }
      ]
    },
    {
      "cell_type": "code",
      "metadata": {
        "colab": {
          "base_uri": "https://localhost:8080/"
        },
        "id": "o3VQ0DxwcWzd",
        "outputId": "9b635425-8a9a-444b-f5e1-815d31a22e30"
      },
      "source": [
        "data_dir  = '/content/drive/MyDrive/Garbage classification/Garbage classification/'\n",
        "\n",
        "classes = os.listdir(data_dir)\n",
        "print(classes)"
      ],
      "execution_count": 6,
      "outputs": [
        {
          "output_type": "stream",
          "name": "stdout",
          "text": [
            "['cardboard', 'glass', 'metal', 'paper', 'plastic', 'trash']\n"
          ]
        }
      ]
    },
    {
      "cell_type": "markdown",
      "metadata": {
        "id": "ya04h9pmyeKV"
      },
      "source": [
        "---------------------------------------------"
      ]
    },
    {
      "cell_type": "markdown",
      "metadata": {
        "id": "VJ8lH25wuyGX"
      },
      "source": [
        "## 파일 불러오기"
      ]
    },
    {
      "cell_type": "code",
      "metadata": {
        "colab": {
          "base_uri": "https://localhost:8080/"
        },
        "id": "w1ht0d8U1aXo",
        "outputId": "3ae35852-f147-4eaa-f0cd-bd0bcecce7f2"
      },
      "source": [
        "import os, cv2, pandas as pd, numpy as np\n",
        "\n",
        "# General Path\n",
        "path = \"/content/drive/MyDrive/Garbage classification/Garbage classification/\"\n",
        "\n",
        "# List of paths \n",
        "file_list = []\n",
        "file_list.append(os.listdir(f\"{path}cardboard\"))\n",
        "file_list.append(os.listdir(f\"{path}glass\"))\n",
        "file_list.append(os.listdir(f\"{path}metal\"))\n",
        "file_list.append(os.listdir(f\"{path}paper\"))\n",
        "file_list.append(os.listdir(f\"{path}plastic\"))\n",
        "file_list.append(os.listdir(f\"{path}trash\"))\n",
        "\n",
        "# List of classes\n",
        "class_names=['cardboard', 'glass', 'metal', 'paper', 'plastic', 'trash']\n",
        "\n",
        "X = []\n",
        "y = []\n",
        "\n",
        "# Count all images\n",
        "contImages = 0\n",
        "\n",
        "\n",
        "for classes_files, classe in zip (file_list, range(6)):\n",
        "  for i in range(len(classes_files)):\n",
        "    name = str(path) + str(class_names[classe]) + str('/') + str(classes_files[i]) \n",
        "    imagem = cv2.imread(name)\n",
        "    b, g, r = cv2.split((imagem))\n",
        "    imagem = cv2.merge([r,g,b])\n",
        "    imagem = cv2.resize(imagem, (224, 224))  # <-- 이미지 크기를 (224,224)로 맞춰줌\n",
        "    img = np.asarray(imagem)\n",
        "    y.append(classe)      \n",
        "    X.append(img)\n",
        "    contImages += 1\n",
        "\n",
        "# Saving the in a csv file\n",
        "np.save('X', X)\n",
        "\n",
        "# Saving the classes in a csv file\n",
        "df_class = pd.DataFrame(y)\n",
        "df_class.to_csv('y.csv', header=False, index=False)\n",
        "\n",
        "print(f\"Number of images: {contImages}\")"
      ],
      "execution_count": 7,
      "outputs": [
        {
          "output_type": "stream",
          "name": "stdout",
          "text": [
            "Number of images: 2527\n"
          ]
        }
      ]
    },
    {
      "cell_type": "code",
      "metadata": {
        "id": "eKPjwZM92k9S"
      },
      "source": [
        "from sklearn.model_selection import train_test_split\n",
        "from tensorflow.keras.utils import to_categorical\n",
        "\n",
        "\n",
        "# Scale pixels\n",
        "def prep_pixels(train, test):\n",
        "\t# Convert from integers to floats\n",
        "\ttrain_norm = train.astype('float32')\n",
        "\ttest_norm = test.astype('float32')\n",
        "\t# Normalize to range 0-1\n",
        "\ttrain_norm = train_norm / 255.0\n",
        "\ttest_norm = test_norm / 255.0\n",
        "\t# Return normalized images\n",
        "\treturn train_norm, test_norm\n",
        "\n",
        "# Load the images and the corresponding labels\n",
        "y = pd.read_csv('y.csv', header=None)\n",
        "y = y.to_numpy()\n",
        "y = np.ravel(y)\n",
        "X = np.load('X.npy')\n"
      ],
      "execution_count": 8,
      "outputs": []
    },
    {
      "cell_type": "code",
      "metadata": {
        "colab": {
          "base_uri": "https://localhost:8080/"
        },
        "id": "5A7g4rbz517U",
        "outputId": "65081f90-1b28-4968-b9b4-7055ae1d6128"
      },
      "source": [
        "X.shape"
      ],
      "execution_count": 9,
      "outputs": [
        {
          "output_type": "execute_result",
          "data": {
            "text/plain": [
              "(2527, 224, 224, 3)"
            ]
          },
          "metadata": {},
          "execution_count": 9
        }
      ]
    },
    {
      "cell_type": "code",
      "metadata": {
        "colab": {
          "base_uri": "https://localhost:8080/"
        },
        "id": "OB306MyM6JKp",
        "outputId": "81de9aa2-76ac-4d5f-d216-e56239af6fdc"
      },
      "source": [
        "y.shape"
      ],
      "execution_count": 10,
      "outputs": [
        {
          "output_type": "execute_result",
          "data": {
            "text/plain": [
              "(2527,)"
            ]
          },
          "metadata": {},
          "execution_count": 10
        }
      ]
    },
    {
      "cell_type": "code",
      "metadata": {
        "colab": {
          "base_uri": "https://localhost:8080/"
        },
        "id": "ITCVaVY73oPQ",
        "outputId": "e8b3ecb1-3926-4659-c882-29be153f11a6"
      },
      "source": [
        "!pip install git+https://github.com/tensorflow/docs"
      ],
      "execution_count": 11,
      "outputs": [
        {
          "output_type": "stream",
          "name": "stdout",
          "text": [
            "Looking in indexes: https://pypi.org/simple, https://us-python.pkg.dev/colab-wheels/public/simple/\n",
            "Collecting git+https://github.com/tensorflow/docs\n",
            "  Cloning https://github.com/tensorflow/docs to /tmp/pip-req-build-_od8oazl\n",
            "  Running command git clone -q https://github.com/tensorflow/docs /tmp/pip-req-build-_od8oazl\n",
            "Requirement already satisfied: astor in /usr/local/lib/python3.7/dist-packages (from tensorflow-docs==0.0.0.dev0) (0.8.1)\n",
            "Requirement already satisfied: absl-py in /usr/local/lib/python3.7/dist-packages (from tensorflow-docs==0.0.0.dev0) (1.1.0)\n",
            "Requirement already satisfied: jinja2 in /usr/local/lib/python3.7/dist-packages (from tensorflow-docs==0.0.0.dev0) (2.11.3)\n",
            "Requirement already satisfied: protobuf<3.20,>=3.12.0 in /usr/local/lib/python3.7/dist-packages (from tensorflow-docs==0.0.0.dev0) (3.17.3)\n",
            "Requirement already satisfied: pyyaml in /usr/local/lib/python3.7/dist-packages (from tensorflow-docs==0.0.0.dev0) (3.13)\n",
            "Requirement already satisfied: six>=1.9 in /usr/local/lib/python3.7/dist-packages (from protobuf<3.20,>=3.12.0->tensorflow-docs==0.0.0.dev0) (1.15.0)\n",
            "Requirement already satisfied: MarkupSafe>=0.23 in /usr/local/lib/python3.7/dist-packages (from jinja2->tensorflow-docs==0.0.0.dev0) (2.0.1)\n",
            "Building wheels for collected packages: tensorflow-docs\n",
            "  Building wheel for tensorflow-docs (setup.py) ... \u001b[?25l\u001b[?25hdone\n",
            "  Created wheel for tensorflow-docs: filename=tensorflow_docs-0.0.0.dev0-py3-none-any.whl size=180173 sha256=980e00994a82c928ea2a01d9c40ae0826a403cf384731124b0b666fd3985ef14\n",
            "  Stored in directory: /tmp/pip-ephem-wheel-cache-7d8wqsan/wheels/cc/c4/d8/5341e93b6376c5c929c49469fce21155eb69cef1a4da4ce32c\n",
            "Successfully built tensorflow-docs\n",
            "Installing collected packages: tensorflow-docs\n",
            "Successfully installed tensorflow-docs-0.0.0.dev0\n"
          ]
        }
      ]
    },
    {
      "cell_type": "code",
      "metadata": {
        "id": "BHxBxRkZ3HP5"
      },
      "source": [
        "from tensorflow import keras\n",
        "from tensorflow.keras import layers\n",
        "from tensorflow_docs.vis import embed\n",
        "import matplotlib.pyplot as plt\n",
        "import tensorflow as tf\n",
        "import numpy as np\n",
        "import imageio"
      ],
      "execution_count": 12,
      "outputs": []
    },
    {
      "cell_type": "code",
      "metadata": {
        "id": "r__NF3zG3OXQ"
      },
      "source": [
        "batch_size = 32\n",
        "num_channels = 3\n",
        "num_classes = 6\n",
        "image_size = 224\n",
        "latent_dim = 128"
      ],
      "execution_count": 31,
      "outputs": []
    },
    {
      "cell_type": "code",
      "metadata": {
        "id": "UcG_02Ai3OVQ"
      },
      "source": [
        "all_digits = X.astype(\"float32\") / 255.0  # 0 ~ 1 사이로 픽셀 스케일링\n",
        "all_labels = to_categorical(y, 6) # label을 one-hot encoding"
      ],
      "execution_count": 32,
      "outputs": []
    },
    {
      "cell_type": "code",
      "metadata": {
        "colab": {
          "base_uri": "https://localhost:8080/"
        },
        "id": "J3nrO_iJ5co7",
        "outputId": "65a53e34-8bee-41c0-faa0-0d843ef0572f"
      },
      "source": [
        "all_digits.shape"
      ],
      "execution_count": 33,
      "outputs": [
        {
          "output_type": "execute_result",
          "data": {
            "text/plain": [
              "(2527, 224, 224, 3)"
            ]
          },
          "metadata": {},
          "execution_count": 33
        }
      ]
    },
    {
      "cell_type": "code",
      "metadata": {
        "colab": {
          "base_uri": "https://localhost:8080/"
        },
        "id": "gHLDuX5a5ml7",
        "outputId": "7bcf456c-b654-45be-dffb-2502e18c68fe"
      },
      "source": [
        "all_labels.shape"
      ],
      "execution_count": 34,
      "outputs": [
        {
          "output_type": "execute_result",
          "data": {
            "text/plain": [
              "(2527, 6)"
            ]
          },
          "metadata": {},
          "execution_count": 34
        }
      ]
    },
    {
      "cell_type": "code",
      "metadata": {
        "colab": {
          "base_uri": "https://localhost:8080/"
        },
        "id": "rPxvz15P3ORE",
        "outputId": "02c54d09-5f23-48bf-c743-263114debfec"
      },
      "source": [
        "# tf.data.Dataset로 만들어준다. \n",
        "dataset = tf.data.Dataset.from_tensor_slices((all_digits, all_labels))\n",
        "dataset = dataset.shuffle(buffer_size=1024).batch(batch_size)\n",
        "\n",
        "print(f\"Shape of training images: {all_digits.shape}\")\n",
        "print(f\"Shape of training labels: {all_labels.shape}\")"
      ],
      "execution_count": 35,
      "outputs": [
        {
          "output_type": "stream",
          "name": "stdout",
          "text": [
            "Shape of training images: (2527, 224, 224, 3)\n",
            "Shape of training labels: (2527, 6)\n"
          ]
        }
      ]
    },
    {
      "cell_type": "code",
      "metadata": {
        "colab": {
          "base_uri": "https://localhost:8080/"
        },
        "id": "bM0PZXHP3OOv",
        "outputId": "cd382b77-6a46-4ebf-ebb8-adf4f6476912"
      },
      "source": [
        "generator_in_channels = latent_dim + num_classes\n",
        "discriminator_in_channels = num_channels + num_classes\n",
        "print(generator_in_channels, discriminator_in_channels)"
      ],
      "execution_count": 36,
      "outputs": [
        {
          "output_type": "stream",
          "name": "stdout",
          "text": [
            "134 9\n"
          ]
        }
      ]
    },
    {
      "cell_type": "code",
      "metadata": {
        "colab": {
          "base_uri": "https://localhost:8080/"
        },
        "id": "56Q3hGpW3OM_",
        "outputId": "7a198038-b5b8-4714-e611-4ba3fbf536da"
      },
      "source": [
        "# discriminator\n",
        "discriminator = keras.Sequential(\n",
        "    [\n",
        "        keras.layers.InputLayer((224, 224, discriminator_in_channels)),\n",
        "        layers.Conv2D(64, (3, 3), strides=(2, 2), padding=\"same\"),\n",
        "        layers.BatchNormalization(momentum=0.9),\n",
        "        layers.LeakyReLU(alpha=0.2),\n",
        "        layers.Dropout(0.25),\n",
        "     \n",
        "        layers.Conv2D(128, (3, 3), strides=(2, 2), padding=\"same\"),\n",
        "        layers.Conv2D(128, (3, 3), strides=(2, 2), padding=\"same\"),\n",
        "        layers.BatchNormalization(momentum=0.9),\n",
        "        layers.LeakyReLU(alpha=0.2),\n",
        "        layers.Dropout(0.25),\n",
        "     \n",
        "        layers.Conv2D(128, (3, 3), strides=(2, 2), padding=\"same\"),\n",
        "        layers.Conv2D(128, (3, 3), strides=(2, 2), padding=\"same\"),\n",
        "        layers.BatchNormalization(momentum=0.9),\n",
        "        layers.LeakyReLU(alpha=0.2),\n",
        "        layers.Dropout(0.25),\n",
        "     \n",
        "        layers.GlobalMaxPooling2D(),\n",
        "        layers.Flatten(),\n",
        "        layers.Dense(512, activation='relu'),\n",
        "        layers.Dense(1),\n",
        "    ],\n",
        "    name=\"discriminator\",\n",
        ")\n",
        "\n",
        "# Create the generator.\n",
        "generator = keras.Sequential(\n",
        "    [\n",
        "        keras.layers.InputLayer((generator_in_channels,)),\n",
        "        # We want to generate 128 + num_classes coefficients to reshape into a\n",
        "        # 7x7x(128 + num_classes) map.\n",
        "        layers.Dense(7 * 7 * generator_in_channels),\n",
        "        layers.BatchNormalization(momentum=0.9),\n",
        "        layers.LeakyReLU(alpha=0.2),\n",
        "        layers.Reshape((7, 7, generator_in_channels)),\n",
        "     \n",
        "        layers.Conv2DTranspose(128, (4, 4), strides=(2, 2), padding=\"same\"), # 최종 (224,224)가 되도록 4*4 conv2d 레이어 배열 \n",
        "        layers.BatchNormalization(momentum=0.9),\n",
        "        layers.LeakyReLU(alpha=0.2),\n",
        "     \n",
        "        layers.Conv2DTranspose(128, (4, 4), strides=(2, 2), padding=\"same\"),\n",
        "        layers.BatchNormalization(momentum=0.9),\n",
        "        layers.LeakyReLU(alpha=0.2),\n",
        "     \n",
        "        layers.Conv2DTranspose(128, (4, 4), strides=(2, 2), padding=\"same\"),\n",
        "        layers.BatchNormalization(momentum=0.9),\n",
        "        layers.LeakyReLU(alpha=0.2),\n",
        "     \n",
        "        layers.Conv2DTranspose(128, (4, 4), strides=(2, 2), padding=\"same\"),\n",
        "        layers.BatchNormalization(momentum=0.9),\n",
        "        layers.LeakyReLU(alpha=0.2),\n",
        "     \n",
        "        layers.Conv2DTranspose(128, (4, 4), strides=(2, 2), padding=\"same\"),\n",
        "        layers.BatchNormalization(momentum=0.9),\n",
        "        layers.LeakyReLU(alpha=0.2),\n",
        "     \n",
        "        layers.Conv2D(3, (7, 7), padding=\"same\", activation=\"sigmoid\"),\n",
        "    ],\n",
        "    name=\"generator\",\n",
        ")\n",
        "discriminator.summary()\n",
        "generator.summary()"
      ],
      "execution_count": 64,
      "outputs": [
        {
          "output_type": "stream",
          "name": "stdout",
          "text": [
            "Model: \"discriminator\"\n",
            "_________________________________________________________________\n",
            " Layer (type)                Output Shape              Param #   \n",
            "=================================================================\n",
            " conv2d_40 (Conv2D)          (None, 112, 112, 64)      5248      \n",
            "                                                                 \n",
            " batch_normalization_45 (Bat  (None, 112, 112, 64)     256       \n",
            " chNormalization)                                                \n",
            "                                                                 \n",
            " leaky_re_lu_61 (LeakyReLU)  (None, 112, 112, 64)      0         \n",
            "                                                                 \n",
            " dropout_15 (Dropout)        (None, 112, 112, 64)      0         \n",
            "                                                                 \n",
            " conv2d_41 (Conv2D)          (None, 56, 56, 128)       73856     \n",
            "                                                                 \n",
            " conv2d_42 (Conv2D)          (None, 28, 28, 128)       147584    \n",
            "                                                                 \n",
            " batch_normalization_46 (Bat  (None, 28, 28, 128)      512       \n",
            " chNormalization)                                                \n",
            "                                                                 \n",
            " leaky_re_lu_62 (LeakyReLU)  (None, 28, 28, 128)       0         \n",
            "                                                                 \n",
            " dropout_16 (Dropout)        (None, 28, 28, 128)       0         \n",
            "                                                                 \n",
            " conv2d_43 (Conv2D)          (None, 14, 14, 128)       147584    \n",
            "                                                                 \n",
            " conv2d_44 (Conv2D)          (None, 7, 7, 128)         147584    \n",
            "                                                                 \n",
            " batch_normalization_47 (Bat  (None, 7, 7, 128)        512       \n",
            " chNormalization)                                                \n",
            "                                                                 \n",
            " leaky_re_lu_63 (LeakyReLU)  (None, 7, 7, 128)         0         \n",
            "                                                                 \n",
            " dropout_17 (Dropout)        (None, 7, 7, 128)         0         \n",
            "                                                                 \n",
            " global_max_pooling2d_7 (Glo  (None, 128)              0         \n",
            " balMaxPooling2D)                                                \n",
            "                                                                 \n",
            " flatten_5 (Flatten)         (None, 128)               0         \n",
            "                                                                 \n",
            " dense_19 (Dense)            (None, 512)               66048     \n",
            "                                                                 \n",
            " dense_20 (Dense)            (None, 1)                 513       \n",
            "                                                                 \n",
            "=================================================================\n",
            "Total params: 589,697\n",
            "Trainable params: 589,057\n",
            "Non-trainable params: 640\n",
            "_________________________________________________________________\n",
            "Model: \"generator\"\n",
            "_________________________________________________________________\n",
            " Layer (type)                Output Shape              Param #   \n",
            "=================================================================\n",
            " dense_21 (Dense)            (None, 6566)              886410    \n",
            "                                                                 \n",
            " batch_normalization_48 (Bat  (None, 6566)             26264     \n",
            " chNormalization)                                                \n",
            "                                                                 \n",
            " leaky_re_lu_64 (LeakyReLU)  (None, 6566)              0         \n",
            "                                                                 \n",
            " reshape_7 (Reshape)         (None, 7, 7, 134)         0         \n",
            "                                                                 \n",
            " conv2d_transpose_31 (Conv2D  (None, 14, 14, 128)      274560    \n",
            " Transpose)                                                      \n",
            "                                                                 \n",
            " batch_normalization_49 (Bat  (None, 14, 14, 128)      512       \n",
            " chNormalization)                                                \n",
            "                                                                 \n",
            " leaky_re_lu_65 (LeakyReLU)  (None, 14, 14, 128)       0         \n",
            "                                                                 \n",
            " conv2d_transpose_32 (Conv2D  (None, 28, 28, 128)      262272    \n",
            " Transpose)                                                      \n",
            "                                                                 \n",
            " batch_normalization_50 (Bat  (None, 28, 28, 128)      512       \n",
            " chNormalization)                                                \n",
            "                                                                 \n",
            " leaky_re_lu_66 (LeakyReLU)  (None, 28, 28, 128)       0         \n",
            "                                                                 \n",
            " conv2d_transpose_33 (Conv2D  (None, 56, 56, 128)      262272    \n",
            " Transpose)                                                      \n",
            "                                                                 \n",
            " batch_normalization_51 (Bat  (None, 56, 56, 128)      512       \n",
            " chNormalization)                                                \n",
            "                                                                 \n",
            " leaky_re_lu_67 (LeakyReLU)  (None, 56, 56, 128)       0         \n",
            "                                                                 \n",
            " conv2d_transpose_34 (Conv2D  (None, 112, 112, 128)    262272    \n",
            " Transpose)                                                      \n",
            "                                                                 \n",
            " batch_normalization_52 (Bat  (None, 112, 112, 128)    512       \n",
            " chNormalization)                                                \n",
            "                                                                 \n",
            " leaky_re_lu_68 (LeakyReLU)  (None, 112, 112, 128)     0         \n",
            "                                                                 \n",
            " conv2d_transpose_35 (Conv2D  (None, 224, 224, 128)    262272    \n",
            " Transpose)                                                      \n",
            "                                                                 \n",
            " batch_normalization_53 (Bat  (None, 224, 224, 128)    512       \n",
            " chNormalization)                                                \n",
            "                                                                 \n",
            " leaky_re_lu_69 (LeakyReLU)  (None, 224, 224, 128)     0         \n",
            "                                                                 \n",
            " conv2d_45 (Conv2D)          (None, 224, 224, 3)       18819     \n",
            "                                                                 \n",
            "=================================================================\n",
            "Total params: 2,257,701\n",
            "Trainable params: 2,243,289\n",
            "Non-trainable params: 14,412\n",
            "_________________________________________________________________\n"
          ]
        }
      ]
    },
    {
      "cell_type": "code",
      "metadata": {
        "id": "lf4Nuqq13OKb"
      },
      "source": [
        "class ConditionalGAN(keras.Model):\n",
        "    def __init__(self, discriminator, generator, latent_dim):\n",
        "        super(ConditionalGAN, self).__init__()\n",
        "        self.discriminator = discriminator\n",
        "        self.generator = generator\n",
        "        self.latent_dim = latent_dim\n",
        "        self.gen_loss_tracker = keras.metrics.Mean(name=\"generator_loss\")\n",
        "        self.disc_loss_tracker = keras.metrics.Mean(name=\"discriminator_loss\")\n",
        "\n",
        "    @property\n",
        "    def metrics(self):\n",
        "        return [self.gen_loss_tracker, self.disc_loss_tracker]\n",
        "\n",
        "    def compile(self, d_optimizer, g_optimizer, loss_fn):\n",
        "        super(ConditionalGAN, self).compile()\n",
        "        self.d_optimizer = d_optimizer\n",
        "        self.g_optimizer = g_optimizer\n",
        "        self.loss_fn = loss_fn\n",
        "\n",
        "    def train_step(self, data):\n",
        "       \n",
        "        real_images, one_hot_labels = data # 데이터 이미지와 라벨 지정\n",
        "\n",
        "        # Add dummy dimensions to the labels so that they can be concatenated with\n",
        "        # the images. This is for the discriminator.\n",
        "        image_one_hot_labels = one_hot_labels[:, :, None, None]\n",
        "        image_one_hot_labels = tf.repeat(\n",
        "            image_one_hot_labels, repeats=[image_size * image_size]\n",
        "        )\n",
        "        image_one_hot_labels = tf.reshape(\n",
        "            image_one_hot_labels, (-1, image_size, image_size, num_classes)\n",
        "        )\n",
        "\n",
        "        # Sample random points in the latent space and concatenate the labels.\n",
        "        # This is for the generator.\n",
        "        batch_size = tf.shape(real_images)[0]\n",
        "        random_latent_vectors = tf.random.normal(shape=(batch_size, self.latent_dim)) # fake image 생성을 위해 랜덤 벡터 생성\n",
        "        random_vector_labels = tf.concat(\n",
        "            [random_latent_vectors, one_hot_labels], axis=1 # latent벡터와 label 병합\n",
        "        )\n",
        "\n",
        "        # Decode the noise (guided by labels) to fake images.\n",
        "        generated_images = self.generator(random_vector_labels) # label을 추가해 만든 노이즈로 이미지 생성\n",
        "\n",
        "        # Image와 label concat/ real과 fake concat\n",
        "        fake_image_and_labels = tf.concat([generated_images, image_one_hot_labels], -1) # fake\n",
        "        real_image_and_labels = tf.concat([real_images, image_one_hot_labels], -1) # real\n",
        "        combined_images = tf.concat(\n",
        "            [fake_image_and_labels, real_image_and_labels], axis=0  # 실제와 fake 병합\n",
        "        )\n",
        "\n",
        "        # Discriminator에서 real or fake 구분하는 label 생성\n",
        "        labels = tf.concat(\n",
        "            [tf.ones((batch_size, 1)), tf.zeros((batch_size, 1))], axis=0 \n",
        "        )\n",
        "\n",
        "        # Train the discriminator.\n",
        "        with tf.GradientTape() as tape: # gradient 자동미분 -> weight 갱신\n",
        "            predictions = self.discriminator(combined_images)\n",
        "            d_loss = self.loss_fn(labels, predictions)\n",
        "        grads = tape.gradient(d_loss, self.discriminator.trainable_weights)\n",
        "        self.d_optimizer.apply_gradients(\n",
        "            zip(grads, self.discriminator.trainable_weights)\n",
        "        )\n",
        "\n",
        "        # Sample random points in the latent space.\n",
        "        random_latent_vectors = tf.random.normal(shape=(batch_size, self.latent_dim))\n",
        "        random_vector_labels = tf.concat(\n",
        "            [random_latent_vectors, one_hot_labels], axis=1\n",
        "        )\n",
        "\n",
        "        # Assemble labels that say \"all real images\".\n",
        "        misleading_labels = tf.zeros((batch_size, 1))\n",
        "\n",
        "        # Train the generator (note that we should *not* update the weights\n",
        "        # of the discriminator)!\n",
        "        with tf.GradientTape() as tape:\n",
        "            fake_images = self.generator(random_vector_labels)\n",
        "            fake_image_and_labels = tf.concat([fake_images, image_one_hot_labels], -1)\n",
        "            predictions = self.discriminator(fake_image_and_labels)\n",
        "            g_loss = self.loss_fn(misleading_labels, predictions)\n",
        "        grads = tape.gradient(g_loss, self.generator.trainable_weights)\n",
        "        self.g_optimizer.apply_gradients(zip(grads, self.generator.trainable_weights))\n",
        "\n",
        "        # Monitor loss.\n",
        "        self.gen_loss_tracker.update_state(g_loss)\n",
        "        self.disc_loss_tracker.update_state(d_loss)\n",
        "        return {\n",
        "            \"g_loss\": self.gen_loss_tracker.result(),\n",
        "            \"d_loss\": self.disc_loss_tracker.result(),\n",
        "        }\n"
      ],
      "execution_count": 65,
      "outputs": []
    },
    {
      "cell_type": "markdown",
      "metadata": {
        "id": "OvbQcSCn8p5v"
      },
      "source": [
        "##  모형 피팅"
      ]
    },
    {
      "cell_type": "code",
      "metadata": {
        "colab": {
          "base_uri": "https://localhost:8080/"
        },
        "id": "QnqPRvAx3OH7",
        "outputId": "d9f06a09-7da2-400e-d742-2202b67a7bce"
      },
      "source": [
        "cond_gan = ConditionalGAN(\n",
        "    discriminator=discriminator, generator=generator, latent_dim=latent_dim\n",
        ")\n",
        "cond_gan.compile(\n",
        "    d_optimizer=keras.optimizers.Adam(learning_rate=0.0003),\n",
        "    g_optimizer=keras.optimizers.Adam(learning_rate=0.0003),\n",
        "    loss_fn=keras.losses.BinaryCrossentropy(from_logits=True),\n",
        ")\n",
        "\n",
        "cond_gan.fit(dataset, epochs=100)"
      ],
      "execution_count": 66,
      "outputs": [
        {
          "output_type": "stream",
          "name": "stdout",
          "text": [
            "Epoch 1/100\n",
            "79/79 [==============================] - 35s 382ms/step - g_loss: 2.1478 - d_loss: 0.4849\n",
            "Epoch 2/100\n",
            "79/79 [==============================] - 30s 379ms/step - g_loss: 9.3146 - d_loss: 0.0143\n",
            "Epoch 3/100\n",
            "79/79 [==============================] - 30s 380ms/step - g_loss: 9.3604 - d_loss: 0.0014\n",
            "Epoch 4/100\n",
            "79/79 [==============================] - 30s 380ms/step - g_loss: 10.7466 - d_loss: 7.3685e-04\n",
            "Epoch 5/100\n",
            "79/79 [==============================] - 30s 380ms/step - g_loss: 10.9575 - d_loss: 0.0122\n",
            "Epoch 6/100\n",
            "79/79 [==============================] - 30s 380ms/step - g_loss: 3.8183 - d_loss: 0.6618\n",
            "Epoch 7/100\n",
            "79/79 [==============================] - 30s 380ms/step - g_loss: 10.0583 - d_loss: 0.4640\n",
            "Epoch 8/100\n",
            "79/79 [==============================] - 30s 380ms/step - g_loss: 4.6995 - d_loss: 0.1215\n",
            "Epoch 9/100\n",
            "79/79 [==============================] - 30s 380ms/step - g_loss: 4.6826 - d_loss: 0.3737\n",
            "Epoch 10/100\n",
            "79/79 [==============================] - 30s 379ms/step - g_loss: 7.7023 - d_loss: 0.6829\n",
            "Epoch 11/100\n",
            "79/79 [==============================] - 30s 380ms/step - g_loss: 7.2039 - d_loss: 0.0094\n",
            "Epoch 12/100\n",
            "79/79 [==============================] - 30s 380ms/step - g_loss: 6.8497 - d_loss: 0.1392\n",
            "Epoch 13/100\n",
            "79/79 [==============================] - 30s 380ms/step - g_loss: 4.7613 - d_loss: 0.1965\n",
            "Epoch 14/100\n",
            "79/79 [==============================] - 30s 379ms/step - g_loss: 4.0654 - d_loss: 0.2360\n",
            "Epoch 15/100\n",
            "79/79 [==============================] - 30s 380ms/step - g_loss: 5.9699 - d_loss: 0.0237\n",
            "Epoch 16/100\n",
            "79/79 [==============================] - 30s 380ms/step - g_loss: 6.4950 - d_loss: 0.0233\n",
            "Epoch 17/100\n",
            "79/79 [==============================] - 30s 380ms/step - g_loss: 8.1393 - d_loss: 0.0041\n",
            "Epoch 18/100\n",
            "79/79 [==============================] - 30s 380ms/step - g_loss: 8.1124 - d_loss: 0.0049\n",
            "Epoch 19/100\n",
            "79/79 [==============================] - 30s 379ms/step - g_loss: 7.9181 - d_loss: 0.0021\n",
            "Epoch 20/100\n",
            "79/79 [==============================] - 30s 380ms/step - g_loss: 7.7521 - d_loss: 0.0048\n",
            "Epoch 21/100\n",
            "79/79 [==============================] - 30s 380ms/step - g_loss: 8.6614 - d_loss: 0.0017\n",
            "Epoch 22/100\n",
            "79/79 [==============================] - 30s 380ms/step - g_loss: 8.4268 - d_loss: 8.3080e-04\n",
            "Epoch 23/100\n",
            "79/79 [==============================] - 30s 380ms/step - g_loss: 8.8527 - d_loss: 0.0020\n",
            "Epoch 24/100\n",
            "79/79 [==============================] - 30s 380ms/step - g_loss: 8.9955 - d_loss: 6.7322e-04\n",
            "Epoch 25/100\n",
            "79/79 [==============================] - 30s 380ms/step - g_loss: 9.6671 - d_loss: 0.0015\n",
            "Epoch 26/100\n",
            "79/79 [==============================] - 30s 380ms/step - g_loss: 10.6718 - d_loss: 0.0012\n",
            "Epoch 27/100\n",
            "79/79 [==============================] - 30s 380ms/step - g_loss: 9.8760 - d_loss: 0.1168\n",
            "Epoch 28/100\n",
            "79/79 [==============================] - 30s 380ms/step - g_loss: 6.6197 - d_loss: 0.0271\n",
            "Epoch 29/100\n",
            "79/79 [==============================] - 30s 380ms/step - g_loss: 8.3178 - d_loss: 3.9706e-04\n",
            "Epoch 30/100\n",
            "79/79 [==============================] - 30s 381ms/step - g_loss: 8.7584 - d_loss: 4.8246e-04\n",
            "Epoch 31/100\n",
            "79/79 [==============================] - 30s 380ms/step - g_loss: 7.6101 - d_loss: 0.0018\n",
            "Epoch 32/100\n",
            "79/79 [==============================] - 30s 380ms/step - g_loss: 9.3186 - d_loss: 0.0012\n",
            "Epoch 33/100\n",
            "79/79 [==============================] - 30s 380ms/step - g_loss: 9.3911 - d_loss: 1.3173e-04\n",
            "Epoch 34/100\n",
            "79/79 [==============================] - 30s 380ms/step - g_loss: 10.0554 - d_loss: 5.2844e-05\n",
            "Epoch 35/100\n",
            "79/79 [==============================] - 30s 380ms/step - g_loss: 10.1174 - d_loss: 4.6840e-05\n",
            "Epoch 36/100\n",
            "79/79 [==============================] - 30s 380ms/step - g_loss: 11.5573 - d_loss: 0.0397\n",
            "Epoch 37/100\n",
            "79/79 [==============================] - 30s 380ms/step - g_loss: 6.4457 - d_loss: 0.0271\n",
            "Epoch 38/100\n",
            "79/79 [==============================] - 30s 380ms/step - g_loss: 8.7651 - d_loss: 0.0250\n",
            "Epoch 39/100\n",
            "79/79 [==============================] - 30s 380ms/step - g_loss: 8.4181 - d_loss: 3.1213e-04\n",
            "Epoch 40/100\n",
            "79/79 [==============================] - 30s 380ms/step - g_loss: 8.9966 - d_loss: 4.0626e-04\n",
            "Epoch 41/100\n",
            "79/79 [==============================] - 30s 380ms/step - g_loss: 12.0273 - d_loss: 0.0339\n",
            "Epoch 42/100\n",
            "79/79 [==============================] - 30s 380ms/step - g_loss: 7.8884 - d_loss: 0.0237\n",
            "Epoch 43/100\n",
            "79/79 [==============================] - 30s 380ms/step - g_loss: 9.5612 - d_loss: 0.0024\n",
            "Epoch 44/100\n",
            "79/79 [==============================] - 30s 380ms/step - g_loss: 10.1787 - d_loss: 1.5203e-04\n",
            "Epoch 45/100\n",
            "79/79 [==============================] - 30s 380ms/step - g_loss: 10.6349 - d_loss: 1.5310e-04\n",
            "Epoch 46/100\n",
            "79/79 [==============================] - 30s 380ms/step - g_loss: 11.1109 - d_loss: 1.3197e-04\n",
            "Epoch 47/100\n",
            "79/79 [==============================] - 30s 380ms/step - g_loss: 10.6544 - d_loss: 5.8156e-04\n",
            "Epoch 48/100\n",
            "79/79 [==============================] - 30s 380ms/step - g_loss: 10.9007 - d_loss: 1.4110e-04\n",
            "Epoch 49/100\n",
            "79/79 [==============================] - 30s 379ms/step - g_loss: 9.5558 - d_loss: 2.8863e-04\n",
            "Epoch 50/100\n",
            "79/79 [==============================] - 30s 381ms/step - g_loss: 9.8259 - d_loss: 1.3458e-04\n",
            "Epoch 51/100\n",
            "79/79 [==============================] - 30s 380ms/step - g_loss: 10.0533 - d_loss: 8.8792e-05\n",
            "Epoch 52/100\n",
            "79/79 [==============================] - 30s 380ms/step - g_loss: 10.5802 - d_loss: 5.4478e-05\n",
            "Epoch 53/100\n",
            "79/79 [==============================] - 30s 380ms/step - g_loss: 10.3665 - d_loss: 7.9462e-05\n",
            "Epoch 54/100\n",
            "79/79 [==============================] - 30s 380ms/step - g_loss: 10.7888 - d_loss: 6.5127e-05\n",
            "Epoch 55/100\n",
            "79/79 [==============================] - 30s 380ms/step - g_loss: 10.3782 - d_loss: 7.4034e-05\n",
            "Epoch 56/100\n",
            "79/79 [==============================] - 30s 380ms/step - g_loss: 10.0414 - d_loss: 1.3494e-04\n",
            "Epoch 57/100\n",
            "79/79 [==============================] - 30s 380ms/step - g_loss: 9.3008 - d_loss: 3.1166e-04\n",
            "Epoch 58/100\n",
            "79/79 [==============================] - 30s 380ms/step - g_loss: 9.7158 - d_loss: 1.0543e-04\n",
            "Epoch 59/100\n",
            "79/79 [==============================] - 30s 380ms/step - g_loss: 10.0991 - d_loss: 6.0888e-05\n",
            "Epoch 60/100\n",
            "79/79 [==============================] - 30s 379ms/step - g_loss: 10.5207 - d_loss: 7.0549e-05\n",
            "Epoch 61/100\n",
            "79/79 [==============================] - 30s 380ms/step - g_loss: 10.1744 - d_loss: 6.9760e-05\n",
            "Epoch 62/100\n",
            "79/79 [==============================] - 30s 381ms/step - g_loss: 10.2375 - d_loss: 6.6602e-04\n",
            "Epoch 63/100\n",
            "79/79 [==============================] - 30s 380ms/step - g_loss: 30.5834 - d_loss: 0.2713\n",
            "Epoch 64/100\n",
            "79/79 [==============================] - 30s 380ms/step - g_loss: 61.9532 - d_loss: 0.2088\n",
            "Epoch 65/100\n",
            "79/79 [==============================] - 30s 380ms/step - g_loss: 172.6831 - d_loss: 0.8241\n",
            "Epoch 66/100\n",
            "79/79 [==============================] - 30s 381ms/step - g_loss: 21.8978 - d_loss: 0.0547\n",
            "Epoch 67/100\n",
            "79/79 [==============================] - 30s 381ms/step - g_loss: 12.7485 - d_loss: 0.0606\n",
            "Epoch 68/100\n",
            "79/79 [==============================] - 30s 380ms/step - g_loss: 9.8488 - d_loss: 8.5528e-04\n",
            "Epoch 69/100\n",
            "79/79 [==============================] - 30s 381ms/step - g_loss: 9.2251 - d_loss: 3.7258e-04\n",
            "Epoch 70/100\n",
            "79/79 [==============================] - 30s 380ms/step - g_loss: 9.7026 - d_loss: 2.1033e-04\n",
            "Epoch 71/100\n",
            "79/79 [==============================] - 30s 380ms/step - g_loss: 10.0343 - d_loss: 9.5949e-05\n",
            "Epoch 72/100\n",
            "79/79 [==============================] - 30s 380ms/step - g_loss: 10.0768 - d_loss: 8.8268e-05\n",
            "Epoch 73/100\n",
            "79/79 [==============================] - 30s 380ms/step - g_loss: 10.3477 - d_loss: 6.3524e-05\n",
            "Epoch 74/100\n",
            "79/79 [==============================] - 30s 380ms/step - g_loss: 10.2063 - d_loss: 9.4943e-05\n",
            "Epoch 75/100\n",
            "79/79 [==============================] - 30s 381ms/step - g_loss: 9.5498 - d_loss: 0.0012\n",
            "Epoch 76/100\n",
            "79/79 [==============================] - 30s 380ms/step - g_loss: 9.5350 - d_loss: 4.5959e-04\n",
            "Epoch 77/100\n",
            "79/79 [==============================] - 30s 380ms/step - g_loss: 10.1453 - d_loss: 8.8498e-05\n",
            "Epoch 78/100\n",
            "79/79 [==============================] - 30s 380ms/step - g_loss: 10.2750 - d_loss: 4.6781e-05\n",
            "Epoch 79/100\n",
            "79/79 [==============================] - 30s 380ms/step - g_loss: 10.3207 - d_loss: 5.5300e-05\n",
            "Epoch 80/100\n",
            "79/79 [==============================] - 30s 380ms/step - g_loss: 10.6320 - d_loss: 5.2049e-05\n",
            "Epoch 81/100\n",
            "79/79 [==============================] - 30s 380ms/step - g_loss: 10.7851 - d_loss: 2.9161e-05\n",
            "Epoch 82/100\n",
            "79/79 [==============================] - 30s 381ms/step - g_loss: 10.9802 - d_loss: 1.8858e-05\n",
            "Epoch 83/100\n",
            "79/79 [==============================] - 30s 380ms/step - g_loss: 10.9550 - d_loss: 2.7170e-05\n",
            "Epoch 84/100\n",
            "79/79 [==============================] - 30s 380ms/step - g_loss: 11.1042 - d_loss: 3.0604e-05\n",
            "Epoch 85/100\n",
            "79/79 [==============================] - 30s 380ms/step - g_loss: 11.3384 - d_loss: 2.8722e-05\n",
            "Epoch 86/100\n",
            "79/79 [==============================] - 30s 380ms/step - g_loss: 11.3797 - d_loss: 3.3656e-05\n",
            "Epoch 87/100\n",
            "79/79 [==============================] - 30s 380ms/step - g_loss: 11.6013 - d_loss: 1.9586e-05\n",
            "Epoch 88/100\n",
            "79/79 [==============================] - 30s 381ms/step - g_loss: 11.7103 - d_loss: 9.9108e-06\n",
            "Epoch 89/100\n",
            "79/79 [==============================] - 30s 380ms/step - g_loss: 11.6133 - d_loss: 1.6722e-05\n",
            "Epoch 90/100\n",
            "79/79 [==============================] - 30s 380ms/step - g_loss: 11.7691 - d_loss: 9.6358e-06\n",
            "Epoch 91/100\n",
            "79/79 [==============================] - 30s 380ms/step - g_loss: 11.7366 - d_loss: 1.1686e-05\n",
            "Epoch 92/100\n",
            "79/79 [==============================] - 30s 380ms/step - g_loss: 11.7562 - d_loss: 1.5167e-05\n",
            "Epoch 93/100\n",
            "79/79 [==============================] - 30s 380ms/step - g_loss: 11.9616 - d_loss: 8.3878e-06\n",
            "Epoch 94/100\n",
            "79/79 [==============================] - 30s 380ms/step - g_loss: 11.9792 - d_loss: 9.0651e-06\n",
            "Epoch 95/100\n",
            "79/79 [==============================] - 30s 380ms/step - g_loss: 11.9700 - d_loss: 1.1923e-05\n",
            "Epoch 96/100\n",
            "79/79 [==============================] - 30s 381ms/step - g_loss: 12.0742 - d_loss: 1.1141e-05\n",
            "Epoch 97/100\n",
            "79/79 [==============================] - 30s 380ms/step - g_loss: 12.1262 - d_loss: 1.1809e-05\n",
            "Epoch 98/100\n",
            "79/79 [==============================] - 30s 380ms/step - g_loss: 12.3350 - d_loss: 7.2428e-06\n",
            "Epoch 99/100\n",
            "79/79 [==============================] - 30s 380ms/step - g_loss: 12.2428 - d_loss: 6.9643e-06\n",
            "Epoch 100/100\n",
            "79/79 [==============================] - 30s 380ms/step - g_loss: 12.3475 - d_loss: 5.6235e-06\n"
          ]
        },
        {
          "output_type": "execute_result",
          "data": {
            "text/plain": [
              "<keras.callbacks.History at 0x7f09801db610>"
            ]
          },
          "metadata": {},
          "execution_count": 66
        }
      ]
    },
    {
      "cell_type": "markdown",
      "metadata": {
        "id": "zN3YgWV790_6"
      },
      "source": [
        "### 이미지 생성"
      ]
    },
    {
      "cell_type": "code",
      "metadata": {
        "id": "hgkr06va3OF0"
      },
      "source": [
        "# We first extract the trained generator from our Conditiona GAN.\n",
        "trained_gen = cond_gan.generator\n",
        "\n",
        "# Choose the number of intermediate images that would be generated in\n",
        "# between the interpolation + 2 (start and last images).\n",
        "num_interpolation =   1# @param {type:\"integer\"}\n",
        "\n",
        "# Sample noise for the interpolation.\n",
        "interpolation_noise = tf.random.normal(shape=(1, latent_dim))\n",
        "interpolation_noise = tf.repeat(interpolation_noise, repeats=num_interpolation)\n",
        "interpolation_noise = tf.reshape(interpolation_noise, (num_interpolation, latent_dim))\n",
        "\n",
        "\n",
        "def interpolate_class(first_number, second_number):\n",
        "    # Convert the start and end labels to one-hot encoded vectors.\n",
        "    first_label = keras.utils.to_categorical([first_number], num_classes)\n",
        "    second_label = keras.utils.to_categorical([second_number], num_classes)\n",
        "    first_label = tf.cast(first_label, tf.float32)\n",
        "    second_label = tf.cast(second_label, tf.float32)\n",
        "\n",
        "    # Calculate the interpolation vector between the two labels.\n",
        "    percent_second_label = tf.linspace(0, 1, num_interpolation)[:, None]\n",
        "    percent_second_label = tf.cast(percent_second_label, tf.float32)\n",
        "    interpolation_labels = (\n",
        "        first_label * (1 - percent_second_label) + second_label * percent_second_label\n",
        "    )\n",
        "\n",
        "    # Combine the noise and the labels and run inference with the generator.\n",
        "    noise_and_labels = tf.concat([interpolation_noise, interpolation_labels], 1)\n",
        "    fake = trained_gen.predict(noise_and_labels)\n",
        "    return fake\n",
        "\n",
        "\n",
        "start_class = 1  # @param {type:\"slider\", min:0, max:9, step:1}\n",
        "end_class = 1  # @param {type:\"slider\", min:0, max:9, step:1}\n",
        "\n",
        "fake_images = interpolate_class(start_class, end_class)"
      ],
      "execution_count": 67,
      "outputs": []
    },
    {
      "cell_type": "code",
      "metadata": {
        "id": "pj5nBsHO_TwH",
        "colab": {
          "base_uri": "https://localhost:8080/",
          "height": 244
        },
        "outputId": "f42dc44b-1a8f-498f-d922-b9c28389813b"
      },
      "source": [
        "fake_images *= 255.0\n",
        "converted_images = fake_images.astype(np.uint8)\n",
        "converted_images = tf.image.resize(converted_images, (224, 224)).numpy().astype(np.uint8)\n",
        "imageio.mimsave(\"animation.gif\", converted_images, fps=1)\n",
        "embed.embed_file(\"animation.gif\")"
      ],
      "execution_count": 68,
      "outputs": [
        {
          "output_type": "execute_result",
          "data": {
            "text/plain": [
              "<IPython.core.display.HTML object>"
            ],
            "text/html": [
              "<img src=\"data:image/gif;base64,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\"/>"
            ]
          },
          "metadata": {},
          "execution_count": 68
        }
      ]
    },
    {
      "cell_type": "code",
      "source": [
        ""
      ],
      "metadata": {
        "id": "yPlQHxpDSdby"
      },
      "execution_count": 42,
      "outputs": []
    }
  ]
}